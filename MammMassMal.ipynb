{
 "cells": [
  {
   "cell_type": "markdown",
   "metadata": {},
   "source": [
    "# Mammographic Malignancy Predictions Explained - Silvano Ross\n",
    "\n",
    "Each time this notebook is run different results are explained and may not have accurate markdown explanations associated. \n",
    "\n",
    "One may need to re-run this notebook due to the variability in predictions. "
   ]
  },
  {
   "cell_type": "markdown",
   "metadata": {},
   "source": [
    "I will be focusing on the `LIME` libraryfor local explanations using surrogate models. \n",
    "\n",
    "I will use a public dataset in medical research, which tries to build an ML model to predict whether a tumor is benign or malignant. The complete information of this dataset can be found here: http://archive.ics.uci.edu/ml/machine-learning-databases/mammographic-masses/ First let's run the code to load the data. "
   ]
  },
  {
   "cell_type": "code",
   "execution_count": 1,
   "metadata": {
    "tags": []
   },
   "outputs": [],
   "source": [
    "# Data Processing Libraries\n",
    "import pandas as pd\n",
    "import numpy as np\n",
    "\n",
    "# Machine Learning Libraries\n",
    "from sklearn.model_selection import train_test_split\n",
    "from sklearn.preprocessing import OneHotEncoder"
   ]
  },
  {
   "cell_type": "markdown",
   "metadata": {},
   "source": [
    "### Pull data from repository"
   ]
  },
  {
   "cell_type": "code",
   "execution_count": 2,
   "metadata": {
    "tags": []
   },
   "outputs": [],
   "source": [
    "MammURL = \"http://archive.ics.uci.edu/ml/machine-learning-databases/mammographic-masses/mammographic_masses.data\"\n",
    "ColumnNames = ['BI_RADS', 'Age', 'Shape', 'Margin', 'Density', 'Malignant']\n",
    "Mamm = pd.read_csv(MammURL, header=None, names=ColumnNames)"
   ]
  },
  {
   "cell_type": "markdown",
   "metadata": {},
   "source": [
    "### Start feature engineering"
   ]
  },
  {
   "cell_type": "code",
   "execution_count": 3,
   "metadata": {
    "tags": []
   },
   "outputs": [
    {
     "name": "stdout",
     "output_type": "stream",
     "text": [
      "    BI_RADS   Age Density  Shape_irre  Shape_lobu  Shape_oval  Margin_circu   \n",
      "611     5.0  59.0     3.0           1           0           0             0  \\\n",
      "358     5.0  55.0     3.0           1           0           0             0   \n",
      "179     5.0  49.0     3.0           1           0           0             0   \n",
      "294     4.0  62.0     3.0           0           0           1             0   \n",
      "509     5.0  75.0     3.0           1           0           0             0   \n",
      "\n",
      "     Margin_ill_d  Margin_spicu  \n",
      "611             0             1  \n",
      "358             1             0  \n",
      "179             1             0  \n",
      "294             1             0  \n",
      "509             0             1  \n"
     ]
    },
    {
     "name": "stderr",
     "output_type": "stream",
     "text": [
      "/opt/conda/lib/python3.10/site-packages/sklearn/preprocessing/_encoders.py:868: FutureWarning: `sparse` was renamed to `sparse_output` in version 1.2 and will be removed in 1.4. `sparse_output` is ignored unless you leave `sparse` to its default value.\n",
      "  warnings.warn(\n"
     ]
    }
   ],
   "source": [
    "# Cast BI_RADS to numeric then impute values for the NaNs that used to be \"?\"\n",
    "Mamm.loc[:, \"BI_RADS\"] = pd.to_numeric(Mamm.loc[:, \"BI_RADS\"], errors='coerce')\n",
    "Mamm.loc[Mamm[\"BI_RADS\"].isna(), \"BI_RADS\"] = Mamm[\"BI_RADS\"].median()\n",
    "# Limit BI_RADS values to 1, 2, 3, 4, 5\n",
    "Mamm.loc[Mamm[\"BI_RADS\"] < 1, \"BI_RADS\"] = 1\n",
    "Mamm.loc[Mamm[\"BI_RADS\"] > 5, \"BI_RADS\"] = 5\n",
    "\n",
    "# Cast Age to numeric then impute values for the NaNs that used to be \"?\"\n",
    "Mamm.loc[:, \"Age\"] = pd.to_numeric(Mamm.loc[:, \"Age\"], errors='coerce')\n",
    "Mamm.loc[Mamm[\"Age\"].isna(), \"Age\"] = Mamm[\"Age\"].median()\n",
    "\n",
    "# Cast Density to numeric then impute values for the NaNs that used to be \"?\"\n",
    "Mamm.loc[:, \"Density\"] = pd.to_numeric(Mamm.loc[:, \"Density\"], errors='coerce')\n",
    "Mamm.loc[Mamm[\"Density\"].isna(), \"Density\"] = Mamm[\"Density\"].median()\n",
    "\n",
    "# Simplify Shape and then impute the most common value for \"?\"\n",
    "Mamm.loc[ Mamm.loc[:, \"Shape\"] == \"1\", \"Shape\"] = \"oval\"\n",
    "Mamm.loc[Mamm.loc[:, \"Shape\"] == \"2\", \"Shape\"] = \"oval\"\n",
    "Mamm.loc[Mamm.loc[:, \"Shape\"] == \"3\", \"Shape\"] = \"lobu\"\n",
    "Mamm.loc[Mamm.loc[:, \"Shape\"] == \"4\", \"Shape\"] = \"irre\"\n",
    "Mamm.loc[Mamm.loc[:, \"Shape\"] == \"?\", \"Shape\"] = Mamm['Shape'].value_counts().idxmax()\n",
    "\n",
    "# Simplify Margin and then impute the most common value for \"?\"\n",
    "Mamm.loc[Mamm.loc[:, \"Margin\"] == \"1\", \"Margin\"] = \"circu\"\n",
    "Mamm.loc[Mamm.loc[:, \"Margin\"] == \"2\", \"Margin\"] = \"ill_d\"\n",
    "Mamm.loc[Mamm.loc[:, \"Margin\"] == \"3\", \"Margin\"] = \"ill_d\"\n",
    "Mamm.loc[Mamm.loc[:, \"Margin\"] == \"4\", \"Margin\"] = \"ill_d\"\n",
    "Mamm.loc[Mamm.loc[:, \"Margin\"] == \"5\", \"Margin\"] = \"spicu\"\n",
    "Mamm.loc[Mamm.loc[:, \"Margin\"] == \"?\", \"Margin\"] = Mamm['Margin'].value_counts().idxmax()\n",
    "\n",
    "# One-hot encode the categorical columns, Shape and Margin\n",
    "CategoricalColumns = [\"Shape\", \"Margin\"]\n",
    "onehot = OneHotEncoder(sparse = False, handle_unknown = \"ignore\")\n",
    "onehot.fit(Mamm[CategoricalColumns])\n",
    "onehot_col_names = onehot.get_feature_names_out(CategoricalColumns)\n",
    "MammCategories = pd.DataFrame(onehot.transform(Mamm[CategoricalColumns]), columns = onehot_col_names)\n",
    "MammCategories = MammCategories.astype(int)\n",
    "\n",
    "# Combine the one-hot encoded columns with the numerical columns\n",
    "MammComplete = pd.concat([Mamm.drop(columns = ['Shape', \"Margin\"]), MammCategories], axis = 1)\n",
    "\n",
    "# Split the data into input variables (X) and target outcome (y)\n",
    "X = MammComplete.drop(columns = \"Malignant\")\n",
    "y = MammComplete[\"Malignant\"]\n",
    "# Split the data into train and test sets\n",
    "X_train, X_test, y_train, y_test = train_test_split(X, y, test_size = 0.2)\n",
    "\n",
    "# # Normalize data for dimension size-sensitive algorithms, like SVM\n",
    "# normalizer = sklearn.preprocessing.StandardScaler()\n",
    "# normalizer.fit(X_train)\n",
    "# X_train = pd.DataFrame(normalizer.transform(X_train), columns=X_train.columns)\n",
    "# X_test = pd.DataFrame(normalizer.transform(X_test), columns=X_train.columns)\n",
    "\n",
    "# Present the processed data\n",
    "print(X_test.head())"
   ]
  },
  {
   "cell_type": "markdown",
   "metadata": {},
   "source": [
    "### Engineer numeric and categorical columns for use in the LimeTabularExplainer"
   ]
  },
  {
   "cell_type": "markdown",
   "metadata": {},
   "source": [
    "Assign a list of indices of categorical features that will be used in `LimeTabularExplainer` to `categorical_features`.  For instance, since `Shape_irre` is a binary column and `Shape_irre` is the 4th column, `categorical_features` should contain the index 3.  See https://lime-ml.readthedocs.io/en/latest/lime.html and search for `LimeTabularExplainer` and search the parameters list."
   ]
  },
  {
   "cell_type": "code",
   "execution_count": 4,
   "metadata": {
    "tags": []
   },
   "outputs": [
    {
     "data": {
      "text/plain": [
       "['BI_RADS',\n",
       " 'Age',\n",
       " 'Density',\n",
       " 'Shape_irre',\n",
       " 'Shape_lobu',\n",
       " 'Shape_oval',\n",
       " 'Margin_circu',\n",
       " 'Margin_ill_d',\n",
       " 'Margin_spicu']"
      ]
     },
     "execution_count": 4,
     "metadata": {},
     "output_type": "execute_result"
    }
   ],
   "source": [
    "list(X_train.columns)"
   ]
  },
  {
   "cell_type": "code",
   "execution_count": 5,
   "metadata": {
    "tags": []
   },
   "outputs": [
    {
     "data": {
      "text/plain": [
       "{3: 'Shape_irre',\n",
       " 4: 'Shape_lobu',\n",
       " 5: 'Shape_oval',\n",
       " 6: 'Margin_circu',\n",
       " 7: 'Margin_ill_d',\n",
       " 8: 'Margin_spicu'}"
      ]
     },
     "execution_count": 5,
     "metadata": {},
     "output_type": "execute_result"
    }
   ],
   "source": [
    "# create category index\n",
    "cat_index = [3, 4, 5, 6, 7, 8]\n",
    "col_names = list(X_train.columns)\n",
    "cat_map = dict(zip(cat_index, X_train.iloc[:, 3:].columns))\n",
    "cat_map"
   ]
  },
  {
   "cell_type": "markdown",
   "metadata": {},
   "source": [
    "### Instantiate Lime Explainer taking care to denote categorical columns"
   ]
  },
  {
   "cell_type": "code",
   "execution_count": 6,
   "metadata": {
    "tags": []
   },
   "outputs": [
    {
     "name": "stdout",
     "output_type": "stream",
     "text": [
      "Requirement already satisfied: lime in /opt/conda/lib/python3.10/site-packages (0.2.0.1)\n",
      "Requirement already satisfied: matplotlib in /opt/conda/lib/python3.10/site-packages (from lime) (3.7.1)\n",
      "Requirement already satisfied: numpy in /opt/conda/lib/python3.10/site-packages (from lime) (1.24.3)\n",
      "Requirement already satisfied: scipy in /opt/conda/lib/python3.10/site-packages (from lime) (1.10.1)\n",
      "Requirement already satisfied: tqdm in /opt/conda/lib/python3.10/site-packages (from lime) (4.65.0)\n",
      "Requirement already satisfied: scikit-learn>=0.18 in /opt/conda/lib/python3.10/site-packages (from lime) (1.2.2)\n",
      "Requirement already satisfied: scikit-image>=0.12 in /opt/conda/lib/python3.10/site-packages (from lime) (0.20.0)\n",
      "Requirement already satisfied: networkx>=2.8 in /opt/conda/lib/python3.10/site-packages (from scikit-image>=0.12->lime) (3.1)\n",
      "Requirement already satisfied: pillow>=9.0.1 in /opt/conda/lib/python3.10/site-packages (from scikit-image>=0.12->lime) (9.5.0)\n",
      "Requirement already satisfied: imageio>=2.4.1 in /opt/conda/lib/python3.10/site-packages (from scikit-image>=0.12->lime) (2.27.0)\n",
      "Requirement already satisfied: tifffile>=2019.7.26 in /opt/conda/lib/python3.10/site-packages (from scikit-image>=0.12->lime) (2023.4.12)\n",
      "Requirement already satisfied: PyWavelets>=1.1.1 in /opt/conda/lib/python3.10/site-packages (from scikit-image>=0.12->lime) (1.4.1)\n",
      "Requirement already satisfied: packaging>=20.0 in /opt/conda/lib/python3.10/site-packages (from scikit-image>=0.12->lime) (23.1)\n",
      "Requirement already satisfied: lazy_loader>=0.1 in /opt/conda/lib/python3.10/site-packages (from scikit-image>=0.12->lime) (0.2)\n",
      "Requirement already satisfied: joblib>=1.1.1 in /opt/conda/lib/python3.10/site-packages (from scikit-learn>=0.18->lime) (1.2.0)\n",
      "Requirement already satisfied: threadpoolctl>=2.0.0 in /opt/conda/lib/python3.10/site-packages (from scikit-learn>=0.18->lime) (3.1.0)\n",
      "Requirement already satisfied: contourpy>=1.0.1 in /opt/conda/lib/python3.10/site-packages (from matplotlib->lime) (1.0.7)\n",
      "Requirement already satisfied: cycler>=0.10 in /opt/conda/lib/python3.10/site-packages (from matplotlib->lime) (0.11.0)\n",
      "Requirement already satisfied: fonttools>=4.22.0 in /opt/conda/lib/python3.10/site-packages (from matplotlib->lime) (4.39.3)\n",
      "Requirement already satisfied: kiwisolver>=1.0.1 in /opt/conda/lib/python3.10/site-packages (from matplotlib->lime) (1.4.4)\n",
      "Requirement already satisfied: pyparsing>=2.3.1 in /opt/conda/lib/python3.10/site-packages (from matplotlib->lime) (3.0.9)\n",
      "Requirement already satisfied: python-dateutil>=2.7 in /opt/conda/lib/python3.10/site-packages (from matplotlib->lime) (2.8.2)\n",
      "Requirement already satisfied: six>=1.5 in /opt/conda/lib/python3.10/site-packages (from python-dateutil>=2.7->matplotlib->lime) (1.16.0)\n"
     ]
    }
   ],
   "source": [
    "!pip install lime"
   ]
  },
  {
   "cell_type": "code",
   "execution_count": 7,
   "metadata": {
    "tags": []
   },
   "outputs": [],
   "source": [
    "# import explainer\n",
    "from lime.lime_tabular import LimeTabularExplainer\n",
    "\n",
    "# set explainer's parameters\n",
    "explainer = LimeTabularExplainer(\n",
    "                        training_data = X_train.values,\n",
    "                        class_names = [False, True],\n",
    "                        feature_names = list(X_train.columns),\n",
    "                        categorical_features=[3,4,5,6,7,8], \n",
    "                        random_state=42\n",
    "                        )"
   ]
  },
  {
   "cell_type": "markdown",
   "metadata": {},
   "source": [
    "### Create two models to later explain individual prediction instances."
   ]
  },
  {
   "cell_type": "markdown",
   "metadata": {},
   "source": [
    "#### First create RandomForestClassifier and get metrics"
   ]
  },
  {
   "cell_type": "code",
   "execution_count": 8,
   "metadata": {},
   "outputs": [
    {
     "name": "stdout",
     "output_type": "stream",
     "text": [
      "The accuracy of the Random Forest Classifier is : 0.839\n"
     ]
    },
    {
     "name": "stderr",
     "output_type": "stream",
     "text": [
      "[Parallel(n_jobs=10)]: Using backend ThreadingBackend with 10 concurrent workers.\n",
      "[Parallel(n_jobs=10)]: Done  20 out of  20 | elapsed:    0.1s finished\n",
      "[Parallel(n_jobs=10)]: Using backend ThreadingBackend with 10 concurrent workers.\n",
      "[Parallel(n_jobs=10)]: Done  20 out of  20 | elapsed:    0.0s finished\n"
     ]
    }
   ],
   "source": [
    "# import packages\n",
    "from sklearn.ensemble import RandomForestClassifier\n",
    "from sklearn.metrics import accuracy_score, confusion_matrix\n",
    "\n",
    "# call classifier\n",
    "rf = RandomForestClassifier(n_estimators=20,\n",
    "                            max_features=0.25,\n",
    "                            criterion=\"entropy\",\n",
    "                            max_depth=5,\n",
    "                            min_samples_leaf=10,\n",
    "                            n_jobs=10,\n",
    "                            random_state=42,\n",
    "                            verbose=1)\n",
    "\n",
    "# train on training data\n",
    "rf.fit(X_train, y_train)\n",
    "\n",
    "# make predictions\n",
    "pred_rf = (rf.predict_proba(X_test)[:,1] >= 0.5)\n",
    "\n",
    "# create accuracy score\n",
    "acc_rf = accuracy_score(y_test, pred_rf)\n",
    "\n",
    "print(f\"The accuracy of the Random Forest Classifier is : {acc_rf:.3f}\")"
   ]
  },
  {
   "cell_type": "code",
   "execution_count": 9,
   "metadata": {
    "tags": []
   },
   "outputs": [
    {
     "data": {
      "text/plain": [
       "<Axes: xlabel='importance', ylabel='feature'>"
      ]
     },
     "execution_count": 9,
     "metadata": {},
     "output_type": "execute_result"
    },
    {
     "data": {
      "image/png": "[encoded data removed]",
      "text/plain": [
       "<Figure size 640x480 with 1 Axes>"
      ]
     },
     "metadata": {},
     "output_type": "display_data"
    }
   ],
   "source": [
    "# show top 5 features\n",
    "import seaborn as sns\n",
    "feature_names = list(X_train.columns)\n",
    "df_var_imp = pd.DataFrame({\"feature\": feature_names, \n",
    "                           \"importance\": rf.feature_importances_})\n",
    "df_var_imp.sort_values(by=\"importance\", ascending=False, inplace=True)\n",
    "\n",
    "sns.barplot(x=\"importance\", y=\"feature\", data=df_var_imp.head(15), color=\"blue\")"
   ]
  },
  {
   "cell_type": "markdown",
   "metadata": {},
   "source": [
    "### Create Mulit-Layer Perceptrion neural net and get metrics"
   ]
  },
  {
   "cell_type": "code",
   "execution_count": 10,
   "metadata": {},
   "outputs": [
    {
     "name": "stdout",
     "output_type": "stream",
     "text": [
      "The accuracy score of the MLP Classifer is: 0.803\n"
     ]
    }
   ],
   "source": [
    "# import Mulit Layer Perceptron model\n",
    "from sklearn.neural_network import MLPClassifier\n",
    "\n",
    "# call classifier\n",
    "mlp_class = MLPClassifier(max_iter=300,\n",
    "                          early_stopping=True,\n",
    "                          n_iter_no_change = 100,\n",
    "                          tol=0.0001,\n",
    "                          random_state=42)\n",
    "\n",
    "# fit to data\n",
    "mlp_class.fit(X_train, y_train)\n",
    "\n",
    "# make probability predictions with rounding\n",
    "pred_mlp = (mlp_class.predict_proba(X_test)[:,1] >=0.5)\n",
    "\n",
    "# create accuracy score \n",
    "acc_mlp = accuracy_score(y_test, pred_mlp)\n",
    "\n",
    "print(f\"The accuracy score of the MLP Classifer is: {acc_mlp:.3f}\")"
   ]
  },
  {
   "cell_type": "markdown",
   "metadata": {},
   "source": [
    "### Find instances of interest to explain with LIME Tabular Explainer"
   ]
  },
  {
   "cell_type": "markdown",
   "metadata": {},
   "source": [
    "Find a row where the Random Forest Classifier predicts opposite of the Neural Net.\n",
    "\n",
    "Find a row where the difference in predicted probailities is greater than 0.4"
   ]
  },
  {
   "cell_type": "code",
   "execution_count": 11,
   "metadata": {},
   "outputs": [
    {
     "name": "stderr",
     "output_type": "stream",
     "text": [
      "[Parallel(n_jobs=10)]: Using backend ThreadingBackend with 10 concurrent workers.\n",
      "[Parallel(n_jobs=10)]: Done  20 out of  20 | elapsed:    0.1s finished\n"
     ]
    },
    {
     "data": {
      "text/plain": [
       "array([0.86383099, 0.82434362, 0.80690665, 0.22062361, 0.89880141])"
      ]
     },
     "execution_count": 11,
     "metadata": {},
     "output_type": "execute_result"
    }
   ],
   "source": [
    "# create preds\n",
    "pred_rf = rf.predict_proba(X_test)[:,1]\n",
    "pred_mlp = mlp_class.predict_proba(X_test)[:,1]\n",
    "pred_rf[:5] # review"
   ]
  },
  {
   "cell_type": "code",
   "execution_count": 12,
   "metadata": {
    "tags": []
   },
   "outputs": [
    {
     "name": "stdout",
     "output_type": "stream",
     "text": [
      "RF indices/rows meeting criteria: [3, 6, 9, 13, 15]\n",
      "MLP indices/rows meeting criteria: [0, 1, 2, 4, 5]\n"
     ]
    }
   ],
   "source": [
    "# loop through list and find when prob is greater less than 3 for rf and greater than 7 for mlp\n",
    "rf_indx = []\n",
    "mlp_indx = []\n",
    "for idx in range(0, len(y_test)):\n",
    "    if pred_rf[idx] <= 0.3:\n",
    "        rf_indx.append(idx)\n",
    "    if pred_mlp[idx] >= 0.7:\n",
    "            mlp_indx.append(idx)\n",
    "print(f\"RF indices/rows meeting criteria: {rf_indx[:5]}\")\n",
    "print(f\"MLP indices/rows meeting criteria: {mlp_indx[:5]}\")\n"
   ]
  },
  {
   "cell_type": "code",
   "execution_count": 13,
   "metadata": {
    "tags": []
   },
   "outputs": [
    {
     "data": {
      "text/plain": [
       "3"
      ]
     },
     "execution_count": 13,
     "metadata": {},
     "output_type": "execute_result"
    }
   ],
   "source": [
    "rf_indx[0]"
   ]
  },
  {
   "cell_type": "code",
   "execution_count": 14,
   "metadata": {
    "tags": []
   },
   "outputs": [
    {
     "data": {
      "text/plain": [
       "[27]"
      ]
     },
     "execution_count": 14,
     "metadata": {},
     "output_type": "execute_result"
    }
   ],
   "source": [
    "#look for instances when pp diff is 0.4 or greater\n",
    "diff = []\n",
    "for idx in range(0, len(y_test)):\n",
    "    if np.abs(pred_rf[idx] - pred_mlp[idx]) >= 0.4:# 0.3 - 0.7\n",
    "        diff.append(idx)       \n",
    "diff"
   ]
  },
  {
   "cell_type": "code",
   "execution_count": 15,
   "metadata": {
    "tags": []
   },
   "outputs": [
    {
     "name": "stdout",
     "output_type": "stream",
     "text": [
      "The ground truth at row 3 is: 0 \n",
      "The RF Classifier predicted probability: 0.221 \n",
      "The MLP pp: 0.344 \n"
     ]
    }
   ],
   "source": [
    "# look at RF pp < 0.3 compared to ground truth at index 1\n",
    "print(f\"The ground truth at row {rf_indx[0]} is: {y_test.iloc[rf_indx[0]]} \\nThe RF Classifier predicted probability: {pred_rf[rf_indx[0]]:.3f} \\nThe MLP pp: {pred_mlp[rf_indx[0]]:.3f} \")"
   ]
  },
  {
   "cell_type": "code",
   "execution_count": 16,
   "metadata": {
    "tags": []
   },
   "outputs": [
    {
     "name": "stdout",
     "output_type": "stream",
     "text": [
      "The ground truth at row 0 is: 1 \n",
      "The MLP pp: 0.861\n",
      "The RF Classifier predicted probability: 0.864 \n"
     ]
    }
   ],
   "source": [
    "# look at MLP pp > 0.7 compared to ground truth\n",
    "print(f\"The ground truth at row {mlp_indx[0]} is: {y_test.iloc[mlp_indx[0]]} \\nThe MLP pp: {pred_mlp[mlp_indx[0]]:.3f}\\nThe RF Classifier predicted probability: {pred_rf[mlp_indx[0]]:.3f} \")"
   ]
  },
  {
   "cell_type": "code",
   "execution_count": 17,
   "metadata": {
    "tags": []
   },
   "outputs": [
    {
     "name": "stdout",
     "output_type": "stream",
     "text": [
      "The ground truth at row 27 is: 0 \n",
      "The MLP pp: 0.239\n",
      "The RF Classifier predicted probability: 0.694 \n"
     ]
    }
   ],
   "source": [
    "# look at instance when they are 0.4 apart\n",
    "try:\n",
    "    print(f\"The ground truth at row {diff[-1]} is: {y_test.iloc[diff[-1]]} \\nThe MLP pp: {pred_mlp[diff[-1]]:.3f}\\nThe RF Classifier predicted probability: {pred_rf[diff[-1]]:.3f} \")\n",
    "except Exception as e:\n",
    "    print(\"There were no instances when the to models were 0.4 apart\")"
   ]
  },
  {
   "cell_type": "markdown",
   "metadata": {},
   "source": [
    "I was not able to find a point where the two algorithms were discrepant to that degree. I will look for a less severe discrepancy where the two models would call different predictions with a threshold of 0.5."
   ]
  },
  {
   "cell_type": "code",
   "execution_count": 18,
   "metadata": {
    "tags": []
   },
   "outputs": [],
   "source": [
    "# create idx list\n",
    "try:\n",
    "    indx = []\n",
    "    for row in range(0, len(y_test)):\n",
    "        if pred_rf[row] < 0.47 and pred_mlp[row] > 0.6:\n",
    "            indx.append(row)\n",
    "    indx[0]\n",
    "except:\n",
    "    pass"
   ]
  },
  {
   "cell_type": "code",
   "execution_count": 19,
   "metadata": {
    "tags": []
   },
   "outputs": [
    {
     "name": "stdout",
     "output_type": "stream",
     "text": [
      "The ground truth at row 120 is: 1 \n",
      "The MLP pp: 0.619\n",
      "The RF Classifier predicted probability: 0.441\n"
     ]
    }
   ],
   "source": [
    "# Hopefully there is an indx where the two models would be discrepant with a threshold of 0.5\n",
    "try:\n",
    "    if len(indx) > 0:\n",
    "        print(f\"The ground truth at row {indx[0]} is: {y_test.iloc[indx[0]]} \\nThe MLP pp: {pred_mlp[indx[0]]:.3f}\\nThe RF Classifier predicted probability: {pred_rf[indx[0]]:.3f}\")\n",
    "    else:\n",
    "        print(\"There were no instances where the two models made severely discrepant calls, RERUN the entire notebook to see if one gets generated.\")\n",
    "except:\n",
    "    pass"
   ]
  },
  {
   "cell_type": "markdown",
   "metadata": {},
   "source": [
    "Use the `explain_instance` function of `explainer` to create an explainer for the **random forest** classifier's prediction of the chosen row.  Name this explainer `rf_exp`.\n",
    "- Assign the values in the chosen row of X_test to the `data_row` argument\n",
    "- Assign the probability predictor (`predict_proba`) of the random forest to the `predict_fn` argument\n",
    "\n",
    "[5 point]"
   ]
  },
  {
   "cell_type": "code",
   "execution_count": 20,
   "metadata": {
    "tags": []
   },
   "outputs": [
    {
     "data": {
      "text/plain": [
       "BI_RADS          5.0\n",
       "Age             42.0\n",
       "Density          3.0\n",
       "Shape_irre         0\n",
       "Shape_lobu         0\n",
       "Shape_oval         1\n",
       "Margin_circu       0\n",
       "Margin_ill_d       1\n",
       "Margin_spicu       0\n",
       "Name: 7, dtype: object"
      ]
     },
     "metadata": {},
     "output_type": "display_data"
    }
   ],
   "source": [
    "# show row for discrepant instance\n",
    "try:\n",
    "    display(X_test.iloc[diff[0]])\n",
    "except:\n",
    "    print(\"RERUN notebook, there were no instances when the two models were severely discrepant\")"
   ]
  },
  {
   "cell_type": "code",
   "execution_count": 21,
   "metadata": {},
   "outputs": [
    {
     "name": "stderr",
     "output_type": "stream",
     "text": [
      "/opt/conda/lib/python3.10/site-packages/sklearn/base.py:439: UserWarning: X does not have valid feature names, but RandomForestClassifier was fitted with feature names\n",
      "  warnings.warn(\n",
      "[Parallel(n_jobs=10)]: Using backend ThreadingBackend with 10 concurrent workers.\n",
      "[Parallel(n_jobs=10)]: Done  20 out of  20 | elapsed:    0.1s finished\n"
     ]
    }
   ],
   "source": [
    "# explain instance for RF with top 5 features\n",
    "try:\n",
    "    rf_exp = explainer.explain_instance(X_train.iloc[diff[0], :].values, predict_fn=rf.predict_proba, num_features=5)\n",
    "except:\n",
    "    print(\"RERUN notebook, there were no instances when the two models were severely discrepant\")"
   ]
  },
  {
   "cell_type": "markdown",
   "metadata": {},
   "source": [
    "Use the `explain_instance` function of `explainer` to pass an instance (your chosen row) to the explainer for the **neural net** classifier's prediction of the chosen row.  Name this explainer `nn_exp`.\n",
    "- Assign the the chosen row of values from the test data inputs to the `data_row` argument\n",
    "- Assign the probability predictor (`predict_proba`) of the neural net to the `predict_fn` argument\n",
    "\n",
    "[5 point]"
   ]
  },
  {
   "cell_type": "code",
   "execution_count": 22,
   "metadata": {},
   "outputs": [
    {
     "name": "stderr",
     "output_type": "stream",
     "text": [
      "/opt/conda/lib/python3.10/site-packages/sklearn/base.py:439: UserWarning: X does not have valid feature names, but MLPClassifier was fitted with feature names\n",
      "  warnings.warn(\n"
     ]
    }
   ],
   "source": [
    "# NN explainer\n",
    "try:\n",
    "    nn_exp = explainer.explain_instance(X_train.iloc[diff[0], :].values, predict_fn=mlp_class.predict_proba, num_features=5)\n",
    "except:\n",
    "    print(\"RERUN notebook, there were no instances when the two models were severely discrepant\")"
   ]
  },
  {
   "cell_type": "markdown",
   "metadata": {},
   "source": [
    "Present the explantion for the chosen instance by using the method `as_pyplot_figure` for the random forest (`rf_exp`).  \n",
    "\n",
    "[5 point]"
   ]
  },
  {
   "cell_type": "code",
   "execution_count": 23,
   "metadata": {},
   "outputs": [
    {
     "data": {
      "image/png": "[encoded data removed]",
      "text/plain": [
       "<Figure size 640x480 with 1 Axes>"
      ]
     },
     "metadata": {},
     "output_type": "display_data"
    }
   ],
   "source": [
    "# present rf_exp\n",
    "try:\n",
    "    rf_exp.as_pyplot_figure()\n",
    "except:\n",
    "    print(\"RERUN notebook, there were no instances when the two models were severely discrepant\")"
   ]
  },
  {
   "cell_type": "markdown",
   "metadata": {},
   "source": [
    "Present the explantion for the chosen instance by using the method `as_list()` for the random forest (`rf_exp`).  Present the coefficient of determination (R2) for the `score` as an accuracy measure for the explanation.\n",
    "\n",
    "[5 point]"
   ]
  },
  {
   "cell_type": "code",
   "execution_count": 24,
   "metadata": {},
   "outputs": [
    {
     "data": {
      "text/plain": [
       "[('BI_RADS <= 4.00', -0.31722259317821255),\n",
       " ('Margin_circu=0', 0.12362591758773937),\n",
       " ('Shape_oval=0', 0.11724634555439932),\n",
       " ('Shape_irre=1', 0.1079789715869641),\n",
       " ('Age > 66.00', 0.09538035378600064)]"
      ]
     },
     "metadata": {},
     "output_type": "display_data"
    },
    {
     "name": "stdout",
     "output_type": "stream",
     "text": [
      "The feature that plays the biggest role in this prediction instance is BI_RADS <= 4.00\n"
     ]
    }
   ],
   "source": [
    "# rf_exp as list\n",
    "try:\n",
    "    display(rf_exp.as_list())\n",
    "    print(f\"The feature that plays the biggest role in this prediction instance is {rf_exp.as_list()[0][0]}\")\n",
    "except:\n",
    "    print(\"RERUN notebook, there were no instances when the two models were severely discrepant\")"
   ]
  },
  {
   "cell_type": "code",
   "execution_count": 25,
   "metadata": {
    "tags": []
   },
   "outputs": [
    {
     "name": "stdout",
     "output_type": "stream",
     "text": [
      "R^2 for RFC vs Ground Truth: 0.35735767991407097\n"
     ]
    },
    {
     "name": "stderr",
     "output_type": "stream",
     "text": [
      "[Parallel(n_jobs=10)]: Using backend ThreadingBackend with 10 concurrent workers.\n",
      "[Parallel(n_jobs=10)]: Done  20 out of  20 | elapsed:    0.0s finished\n"
     ]
    }
   ],
   "source": [
    "# show R^2\n",
    "try:\n",
    "    from sklearn.metrics import r2_score\n",
    "    R_rf = r2_score(y_test, (rf.predict_proba(X_test)[:,1] >= 0.5))\n",
    "    print(f\"R^2 for RFC vs Ground Truth: {R_rf}\")\n",
    "except:\n",
    "    print(\"RERUN notebook, there were no instances when the two models were severely discrepant\")"
   ]
  },
  {
   "cell_type": "markdown",
   "metadata": {},
   "source": [
    "- Present the explantion for the chosen instance by using the method `as_pyplot_figure` for the neural net (`nn_exp`).  \n",
    "\n",
    "[5 point]"
   ]
  },
  {
   "cell_type": "code",
   "execution_count": 26,
   "metadata": {},
   "outputs": [
    {
     "data": {
      "image/png": "[encoded data removed]",
      "text/plain": [
       "<Figure size 640x480 with 1 Axes>"
      ]
     },
     "metadata": {},
     "output_type": "display_data"
    }
   ],
   "source": [
    "# NN as plot\n",
    "try:\n",
    "    nn_exp.as_pyplot_figure()\n",
    "except:\n",
    "    print(\"RERUN notebook, there were no instances when the two models were severely discrepant\")"
   ]
  },
  {
   "cell_type": "markdown",
   "metadata": {},
   "source": [
    "- Present the explantion for the chosen instance by using the method `as_list()` for the neural net (`nn_exp`).  Present the coefficient of determination (R2) for the `score` as an accuracy measure for the explanation.\n",
    "\n",
    "[5 point]"
   ]
  },
  {
   "cell_type": "code",
   "execution_count": 27,
   "metadata": {},
   "outputs": [
    {
     "data": {
      "text/plain": [
       "[('Shape_oval=0', 0.20173563815793283),\n",
       " ('Shape_irre=1', 0.1905350990925512),\n",
       " ('Margin_circu=0', 0.17846925633485164),\n",
       " ('Margin_spicu=1', 0.1639998180138626),\n",
       " ('Age > 66.00', 0.1599027915497704)]"
      ]
     },
     "metadata": {},
     "output_type": "display_data"
    },
    {
     "name": "stdout",
     "output_type": "stream",
     "text": [
      "\n",
      "The feature that plays the biggest role in this NN prediction instance is Shape_oval=0\n"
     ]
    }
   ],
   "source": [
    "# nn as list\n",
    "try:\n",
    "    display(nn_exp.as_list())\n",
    "    print()\n",
    "    print(f\"The feature that plays the biggest role in this NN prediction instance is {nn_exp.as_list()[0][0]}\")\n",
    "except:\n",
    "    print(\"RERUN notebook, there were no instances when the two models were severely discrepant\")"
   ]
  },
  {
   "cell_type": "code",
   "execution_count": 28,
   "metadata": {
    "tags": []
   },
   "outputs": [],
   "source": [
    "# nn r2\n",
    "try:\n",
    "    R_nn = r2_score(y_test, mlp_class.predict(X_test))\n",
    "except:\n",
    "    print(\"RERUN notebook, there were no instances when the two models were severely discrepant\")"
   ]
  },
  {
   "cell_type": "code",
   "execution_count": 29,
   "metadata": {
    "tags": []
   },
   "outputs": [
    {
     "name": "stdout",
     "output_type": "stream",
     "text": [
      "R^2 for NN: 0.21224489795918378\n"
     ]
    }
   ],
   "source": [
    "try:\n",
    "    print(f\"R^2 for NN: {R_nn}\")\n",
    "except:\n",
    "    print(\"RERUN notebook, there were no instances when the two models were severely discrepant\")"
   ]
  },
  {
   "cell_type": "code",
   "execution_count": 30,
   "metadata": {
    "tags": []
   },
   "outputs": [
    {
     "name": "stdout",
     "output_type": "stream",
     "text": [
      " The R2 for the RF is: 0.857 \n",
      "The R2 for the MLP is: 0.851\n"
     ]
    }
   ],
   "source": [
    "# Use lime to automatically calculate R2 for both models compared to the internal linear regression algorithm\n",
    "\n",
    "print(f\" The R2 for the RF is: {rf_exp.score:.3f} \\nThe R2 for the MLP is: {nn_exp.score:.3f}\")"
   ]
  },
  {
   "cell_type": "markdown",
   "metadata": {},
   "source": [
    "Both of the models can be explained with the "
   ]
  },
  {
   "cell_type": "code",
   "execution_count": 31,
   "metadata": {
    "tags": []
   },
   "outputs": [],
   "source": [
    "pred_mlp_round = np.array(pd.Series(pred_mlp).apply(lambda x: 1 if x >= 0.5 else 0))\n",
    "pred_rf_round = np.array(pd.Series(pred_rf).apply(lambda x: 1 if x >= 0.5 else 0))\n"
   ]
  },
  {
   "cell_type": "code",
   "execution_count": 32,
   "metadata": {
    "tags": []
   },
   "outputs": [
    {
     "name": "stdout",
     "output_type": "stream",
     "text": [
      "R^2 comparing the NN predictions to RFC predictions is: 0.523\n"
     ]
    }
   ],
   "source": [
    "# final R^2 of the black box MLP vs glass box RFC\n",
    "try:\n",
    "    r2 = r2_score(y_true=pred_mlp_round, y_pred=pred_rf_round)\n",
    "    print(f\"R^2 comparing the NN predictions to RFC predictions is: {r2:.3f}\")\n",
    "except:\n",
    "     print(\"RERUN notebook, there were no instances when the two models were severely discrepant\")"
   ]
  },
  {
   "cell_type": "markdown",
   "metadata": {},
   "source": [
    "#### Identify the similarities and differences between the explanations for the neural net and the random forest on your chosen instance\n",
    "\n",
    "##### When I ran it the first time this was what I got.\n",
    "\n",
    "**Similarities**\n",
    "\n",
    "- Both models have similar R^2 scores that tell us roughly 85% of the variation in the outcome is not explained by our model. And both models have a semi-high accuracy between ~70-80%. Both models have similar top features: BI-RADS between 4-5, Margin circumscribed - false, Shape oval - false and irregular - true. The two sets of predictions are somewhat explained by eachother having a postivie R2 value, but there is still a lot of variability between tht two models.\n",
    "\n",
    "**Differences**\n",
    "\n",
    "- The two models have one top feature that differs from each other - RF - Margin ill defined - false and NN - Margin spiculated - true for this instance of a prediction. The two models rank features much differently for this instance as well. The Random Forest Classifier nearly put nearly half of the importance on BI-RADS - 4-5 feature, (1 means benign and 5 means suggestive of malignancy). The neural net was much more even in how it ranked feature importance for the instance investigated and put roughly 15-25% on Margin circumscribed - false and spiculated - true, and Shape oval - false or irregular - true, leaving BI-RADS between 4-5 having a 7% rankning in the investigated prediction. \n",
    "\n",
    "**Interesting Points**\n",
    "\n",
    "- I investigated the feature_importance feature native to the RF Classifier and Age was suggested as a top feature for predicting malignancy. To generalize, the feature_importance_ method creates a general feature importance list. But going deeper, each prediction has its own specific feature importance ranking.  \n",
    "- The Lime explainer shows that a higher percentage of the prediction for the Random Forest Classifier can be explained with a simpler model vs a lower percentage for the Multi Layer Perceptron model."
   ]
  },
  {
   "cell_type": "code",
   "execution_count": null,
   "metadata": {},
   "outputs": [],
   "source": []
  }
 ],
 "metadata": {
  "kernelspec": {
   "display_name": "Python 3 (ipykernel)",
   "language": "python",
   "name": "python3"
  },
  "language_info": {
   "codemirror_mode": {
    "name": "ipython",
    "version": 3
   },
   "file_extension": ".py",
   "mimetype": "text/x-python",
   "name": "python",
   "nbconvert_exporter": "python",
   "pygments_lexer": "ipython3",
   "version": "3.10.10"
  }
 },
 "nbformat": 4,
 "nbformat_minor": 4
}
